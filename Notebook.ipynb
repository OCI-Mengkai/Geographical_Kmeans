{
 "cells": [
  {
   "cell_type": "code",
   "execution_count": 1,
   "metadata": {
    "collapsed": true
   },
   "outputs": [],
   "source": [
    "import matplotlib.pyplot as plt\n",
    "%matplotlib inline"
   ]
  },
  {
   "cell_type": "code",
   "execution_count": 2,
   "metadata": {
    "collapsed": true
   },
   "outputs": [],
   "source": [
    "import pickle\n",
    "\n",
    "with open('zipcode.pickle', 'rb') as handle:\n",
    "    zips = pickle.load(handle)"
   ]
  },
  {
   "cell_type": "code",
   "execution_count": 3,
   "metadata": {
    "collapsed": false
   },
   "outputs": [],
   "source": [
    "# %%writefile kmeans.py\n",
    "\n",
    "import numpy as np\n",
    "\n",
    "class Kmeans:\n",
    "    \"\"\"Customized K-means class to use alternative cost functions.\"\"\"\n",
    "   \n",
    "    def __init__(self, data, distance_function):\n",
    "        self._distance_function = distance_function\n",
    "        self.nPoints = len(data)\n",
    "        self.__initDataMatrix(data)\n",
    "        \n",
    "        \n",
    "    def __initDataMatrix(self, data):\n",
    "        self._index = {}\n",
    "        self._matrix = np.zeros((self.nPoints , 2))\n",
    "        count = 0\n",
    "        for key, value in data.items():\n",
    "            self._index[key] = count\n",
    "            self._matrix[count,:] = value\n",
    "            count += 1\n",
    "       \n",
    "        \n",
    "    def startK(self, n, method = 'K++'):\n",
    "        self._K = None\n",
    "        if(method == 'random'):\n",
    "            self.__randomStart(n)\n",
    "       \n",
    "        elif(method == 'K++'):\n",
    "            self.__ppStart(n)\n",
    "       \n",
    "        return self._K\n",
    "    \n",
    "    \n",
    "    def __randomStart(self, n):\n",
    "        self._K = np.zeros((n, 2))\n",
    "        for i in range(n):\n",
    "            row = np.random.randint(low=0, high=self.nPoints)       \n",
    "            self._K[i,:] = (self._matrix[row,:])\n",
    "    \n",
    "    \n",
    "    def __ppStart(self, n):\n",
    "        p0 = self._matrix[np.random.randint(low=0, high=self.nPoints),:]\n",
    "        self._K = np.matrix([p0])\n",
    "        \n",
    "        for k in range(1, n):            \n",
    "            distVec = self.distClosestPoint(self._K)[:,1]\n",
    "        \n",
    "            distVec = np.power(distVec, 2)\n",
    "            probVec = distVec / np.sum(distVec)\n",
    "            cumProbVec = np.cumsum(probVec)\n",
    "        \n",
    "            r = np.random.rand()\n",
    "        \n",
    "            for j,p in enumerate(cumProbVec):\n",
    "                if r < p:\n",
    "                    i = j\n",
    "                    break\n",
    "            self._K = np.append(self._K, [self._matrix[i,:]], axis=0)\n",
    "            \n",
    "            \n",
    "    def fit(self, iterations = 1000):\n",
    "        for i in range(iterations):\n",
    "            lastK = self._K\n",
    "            distVec, self._K = self.updateK()\n",
    "            \n",
    "            if(np.array_equal(lastK, self._K)):\n",
    "                return i, distVec, self._K\n",
    "            \n",
    "        return i, distVec, self._K\n",
    "            \n",
    "            \n",
    "    def updateK(self):\n",
    "        distVec = self.distClosestPoint(self._K)\n",
    "        \n",
    "        updK = np.zeros_like(self._K)\n",
    "        \n",
    "        nPoints = [0] * len(self._K)\n",
    "        \n",
    "        for i in range(self.nPoints):\n",
    "            k = int(distVec[i,0])\n",
    "            updK[k,:] += self._matrix[i,:]\n",
    "            nPoints[k] += 1            \n",
    "        \n",
    "        for i in range(len(self._K)):\n",
    "            updK[i,:] /= nPoints[i]            \n",
    "        \n",
    "        return distVec, updK\n",
    "        \n",
    "        \n",
    "    def vecMatDistancePoint(self, point):\n",
    "        return np.apply_along_axis(self.pingCost, 1, self._matrix, point)        \n",
    "        \n",
    "    \n",
    "    def pingCost(self, p1, p2):\n",
    "        return self._distance_function(p1, np.reshape(p2,2))\n",
    "    \n",
    "    \n",
    "    ''' \n",
    "        Returns a matrix where first column is the closest point and seconde column is \n",
    "        the distance and each row is respective to the same row in the data maxtrix\n",
    "    '''\n",
    "    def distClosestPoint(self, pointList):\n",
    "        n = len(pointList)\n",
    "        mat = np.zeros((self.nPoints, n))\n",
    "        \n",
    "        for i in range(n):\n",
    "            distVec = self.vecMatDistancePoint(pointList[i])\n",
    "            mat[:,i] = distVec\n",
    "            \n",
    "        out = np.zeros((self.nPoints, 2))\n",
    "        \n",
    "        # TO DO: maybe find a way to iterate only once and get index and distance\n",
    "        out[:,0] = np.argmin(mat, axis=1)\n",
    "        out[:,1] = np.amin(mat, axis=1)\n",
    "        return out\n",
    "    \n",
    "    \n",
    "    @property\n",
    "    def matrix(self):\n",
    "        return self._matrix\n",
    "    \n",
    "    @property\n",
    "    def K(self):\n",
    "        return self._K\n",
    "    \n",
    "    def getPoints(self, key):\n",
    "        return self._matrix[self._index[key]]\n",
    "       "
   ]
  },
  {
   "cell_type": "code",
   "execution_count": 4,
   "metadata": {
    "collapsed": false
   },
   "outputs": [],
   "source": [
    "# %%writefile cost_functions.py\n",
    "\n",
    "from scipy.spatial import distance\n",
    "import math\n",
    "\n",
    "def euclidean(p1, p2):\n",
    "    return distance.euclidean(p1, p2)\n",
    "\n",
    "def distanceHaversine(p1, p2):\n",
    "    p2 = np.squeeze(np.asarray(p2)) # Transform matrix 1,2 into an array with coord\n",
    "    \n",
    "    lat1 = p1[1]\n",
    "    lng1 = p1[0]\n",
    "    lat2 = p2[1]\n",
    "    lng2 = p2[0]\n",
    "   \n",
    "    earthRadius = 3959\n",
    "   \n",
    "    lat1Rad = lat1 * math.pi/180\n",
    "    lat2Rad = lat2 * math.pi/180\n",
    "   \n",
    "    Dlat = (lat2 - lat1) * math.pi/180\n",
    "    Dlng = (lng2 - lng1) * math.pi/180\n",
    "   \n",
    "    a = pow(math.sin(Dlat/2), 2) + math.cos(lat1Rad) * math.cos(lat2Rad) * pow(math.sin(Dlng/2), 2)\n",
    "   \n",
    "    c = 2 * math.atan2(math.sqrt(a), math.sqrt(1 - a))\n",
    "   \n",
    "    return (c * earthRadius)"
   ]
  },
  {
   "cell_type": "code",
   "execution_count": 5,
   "metadata": {
    "collapsed": false
   },
   "outputs": [],
   "source": [
    "test = Kmeans(zips, distanceHaversine)\n",
    "\n",
    "t = test.startK(4)"
   ]
  },
  {
   "cell_type": "code",
   "execution_count": 6,
   "metadata": {
    "collapsed": false
   },
   "outputs": [
    {
     "data": {
      "text/plain": [
       "[<matplotlib.lines.Line2D at 0x15bfceecb70>,\n",
       " <matplotlib.lines.Line2D at 0x15bfceeccf8>,\n",
       " <matplotlib.lines.Line2D at 0x15bfcef96d8>,\n",
       " <matplotlib.lines.Line2D at 0x15bfcef9860>,\n",
       " <matplotlib.lines.Line2D at 0x15bfcef99e8>]"
      ]
     },
     "execution_count": 6,
     "metadata": {},
     "output_type": "execute_result"
    },
    {
     "data": {
      "image/png": "[encoded data removed]",
      "text/plain": [
       "<matplotlib.figure.Figure at 0x15bfcac7940>"
      ]
     },
     "metadata": {},
     "output_type": "display_data"
    }
   ],
   "source": [
    "m = test.matrix\n",
    "plt.plot(m[:, 0].flatten(),m[:, 1].flatten(), 'bo', t[:, 0].flatten(),t[:, 1].flatten(), 'ro')"
   ]
  },
  {
   "cell_type": "code",
   "execution_count": 7,
   "metadata": {
    "collapsed": false
   },
   "outputs": [],
   "source": [
    "ite, distVec, tf = test.fit()"
   ]
  },
  {
   "cell_type": "code",
   "execution_count": 8,
   "metadata": {
    "collapsed": true
   },
   "outputs": [],
   "source": [
    "# %%writefile util.py\n",
    "\n",
    "# TO DO: This function needs to be improved right now is iterating one time for each cluster\n",
    "\n",
    "def plotResult(m, k, distVec):\n",
    "    cluster = [[],[]]\n",
    "\n",
    "    styles = ['bo', 'go', 'co', 'mo', 'yo', 'ko', 'ro', 'bs', 'gs', 'cs', 'ms', 'ys', 'ks', 'rs']\n",
    "\n",
    "    for j in range(len(k)):\n",
    "        for i in range(len(m)):\n",
    "            if(distVec[i] == j):\n",
    "                cluster[0].append(m[i,0])\n",
    "                cluster[1].append(m[i,1])\n",
    "\n",
    "            plt.plot(cluster[0], cluster[1], styles[j])\n",
    "            cluster = [[],[]]\n",
    "\n",
    "    plt.plot(k[:, 0].flatten(),k[:, 1].flatten(), 'r^')"
   ]
  },
  {
   "cell_type": "code",
   "execution_count": 9,
   "metadata": {
    "collapsed": false
   },
   "outputs": [
    {
     "name": "stdout",
     "output_type": "stream",
     "text": [
      "Iterations:  10\n",
      "AVG distance:  49.3901637667\n"
     ]
    },
    {
     "data": {
      "image/png": "[encoded data removed]",
      "text/plain": [
       "<matplotlib.figure.Figure at 0x15bfcf07710>"
      ]
     },
     "metadata": {},
     "output_type": "display_data"
    }
   ],
   "source": [
    "print(\"Iterations: \", ite)\n",
    "print(\"AVG distance: \", np.mean(distVec[:,1]))\n",
    "\n",
    "plotResult(m, tf, distVec[:,0])"
   ]
  }
 ],
 "metadata": {
  "kernelspec": {
   "display_name": "Python 3",
   "language": "python",
   "name": "python3"
  },
  "language_info": {
   "codemirror_mode": {
    "name": "ipython",
    "version": 3
   },
   "file_extension": ".py",
   "mimetype": "text/x-python",
   "name": "python",
   "nbconvert_exporter": "python",
   "pygments_lexer": "ipython3",
   "version": "3.6.0"
  }
 },
 "nbformat": 4,
 "nbformat_minor": 2
}
